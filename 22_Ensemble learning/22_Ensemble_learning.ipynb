{
  "nbformat": 4,
  "nbformat_minor": 0,
  "metadata": {
    "colab": {
      "provenance": []
    },
    "kernelspec": {
      "name": "python3",
      "display_name": "Python 3"
    },
    "language_info": {
      "name": "python"
    }
  },
  "cells": [
    {
      "cell_type": "code",
      "execution_count": 13,
      "metadata": {
        "colab": {
          "base_uri": "https://localhost:8080/"
        },
        "id": "MxHX6ZC9gsjP",
        "outputId": "5b681e02-8ab9-4d67-dc88-519dca723760"
      },
      "outputs": [
        {
          "output_type": "stream",
          "name": "stdout",
          "text": [
            "2710913415.047034\n"
          ]
        }
      ],
      "source": [
        "import pandas as pd\n",
        "import numpy as np\n",
        "from sklearn.model_selection import train_test_split\n",
        "from sklearn.linear_model import LinearRegression\n",
        "from sklearn.svm import SVR\n",
        "from sklearn.tree import DecisionTreeRegressor\n",
        "from sklearn.metrics import mean_squared_error\n",
        "\n",
        "\n",
        "df=pd.read_csv('train.csv')\n",
        "x=df[['GrLivArea','YearBuilt']]\n",
        "y=df['SalePrice']\n",
        "\n",
        "x_train,x_test,y_train,y_test=train_test_split(x,y,test_size=0.2,random_state=42)\n",
        "model1=LinearRegression()\n",
        "model2=SVR()\n",
        "model3=DecisionTreeRegressor()\n",
        "model1.fit(x_train,y_train)\n",
        "model2.fit(x_train,y_train)\n",
        "model3.fit(x_train,y_train)\n",
        "\n",
        "model1_pred=model1.predict(x_test)\n",
        "model2_pred=model2.predict(x_test)\n",
        "model3_pred=model3.predict(x_test)\n",
        "\n",
        "sse1=mean_squared_error(y_test,model1_pred)\n",
        "sse2=mean_squared_error(y_test,model2_pred)\n",
        "sse2=mean_squared_error(y_test,model3_pred)\n",
        "\n",
        "\n",
        "#[Problem 1] Blending scratch mounting\n",
        "blend_pred=(model1_pred+model2_pred+model3_pred)/3\n",
        "sse_blend=mean_squared_error(y_test,blend_pred)\n",
        "print(sse_blend)\n",
        "\n"
      ]
    },
    {
      "cell_type": "code",
      "source": [
        "#[Problem 2] Scratch mounting of bagging\n",
        "\n",
        "class BaggingScratch:\n",
        "    def __init__(self, models):\n",
        "        self.models = models\n",
        "        self.predictions = None\n",
        "\n",
        "    def fit(self, x_train, y_train):\n",
        "        for model in self.models:\n",
        "            model.fit(x_train, y_train)\n",
        "\n",
        "    def predict(self, x_test):\n",
        "        preds = []\n",
        "        for model in self.models:\n",
        "            preds.append(model.predict(x_test))\n",
        "        self.predictions = np.mean(preds, axis=0)\n",
        "        return self.predictions\n",
        "\n",
        "    def score(self, x_test, y_test):\n",
        "        if self.predictions is None:\n",
        "            self.predict(x_test)\n",
        "        return mean_squared_error(y_test, self.predictions)"
      ],
      "metadata": {
        "id": "NhGuzH2xnLTo"
      },
      "execution_count": 24,
      "outputs": []
    },
    {
      "cell_type": "code",
      "source": [
        "bagging = BaggingScratch([model1, model2, model3])\n",
        "bagging.fit(x_train, y_train)\n",
        "y_pred = bagging.predict(x_test)\n",
        "mse = bagging.score(x_test, y_test)\n",
        "\n",
        "print(\"MSE do Bagging:\", mse)"
      ],
      "metadata": {
        "colab": {
          "base_uri": "https://localhost:8080/"
        },
        "id": "TLQ0p6K6knjZ",
        "outputId": "020e0299-f6d3-4dcd-cd85-1766fa89d6f3"
      },
      "execution_count": 26,
      "outputs": [
        {
          "output_type": "stream",
          "name": "stdout",
          "text": [
            "MSE do Bagging: 2769574524.6610875\n"
          ]
        }
      ]
    },
    {
      "cell_type": "code",
      "source": [
        "#[Problem 3] Stacking scratch mounting\n",
        "from sklearn.base import clone\n",
        "\n",
        "class stackingScratch:\n",
        "    def __init__(self, base_models, meta_model):\n",
        "        self.base_models = base_models\n",
        "        self.meta_model = meta_model\n",
        "        self.fitted_base_models = []\n",
        "        self.fitted_meta_model = None\n",
        "\n",
        "    def fit(self, X, y):\n",
        "        base_predictions = []\n",
        "        self.fitted_base_models = []\n",
        "        for model in self.base_models:\n",
        "            cloned_model = clone(model)\n",
        "            cloned_model.fit(X, y)\n",
        "            self.fitted_base_models.append(cloned_model)\n",
        "            base_predictions.append(cloned_model.predict(X))\n",
        "        X_meta = np.vstack(base_predictions).T\n",
        "\n",
        "        self.fitted_meta_model = clone(self.meta_model)\n",
        "        self.fitted_meta_model.fit(X_meta, y)\n",
        "\n",
        "    def predict(self, X):\n",
        "        base_preds = [model.predict(X) for model in self.fitted_base_models]\n",
        "        X_meta = np.vstack(base_preds).T\n",
        "        return self.fitted_meta_model.predict(X_meta)\n",
        "\n",
        "    def score(self, X, y):\n",
        "        y_pred = self.predict(X)\n",
        "        return mean_squared_error(y, y_pred)"
      ],
      "metadata": {
        "id": "oOsM4XIBniVL"
      },
      "execution_count": 30,
      "outputs": []
    },
    {
      "cell_type": "code",
      "source": [
        "base_models = [LinearRegression(), DecisionTreeRegressor()]\n",
        "meta_model = DecisionTreeRegressor(max_depth=3)\n",
        "stacking = stackingScratch(base_models, meta_model)\n",
        "stacking.fit(x_train, y_train)\n",
        "\n",
        "y_pred = stacking.predict(x_test)\n",
        "mse_stacking = stacking.score(x_test, y_test)\n",
        "\n",
        "print( mse_stacking)"
      ],
      "metadata": {
        "colab": {
          "base_uri": "https://localhost:8080/"
        },
        "id": "HKXm8LGdpSgI",
        "outputId": "2f1d31cb-8401-40a0-d6e7-69ae8df265ba"
      },
      "execution_count": 31,
      "outputs": [
        {
          "output_type": "stream",
          "name": "stdout",
          "text": [
            "2427861821.649006\n"
          ]
        }
      ]
    }
  ]
}