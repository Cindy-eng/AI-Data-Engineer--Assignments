{
  "nbformat": 4,
  "nbformat_minor": 0,
  "metadata": {
    "colab": {
      "provenance": []
    },
    "kernelspec": {
      "name": "python3",
      "display_name": "Python 3"
    },
    "language_info": {
      "name": "python"
    }
  },
  "cells": [
    {
      "cell_type": "code",
      "execution_count": null,
      "metadata": {
        "id": "WQG9lByV2B2y"
      },
      "outputs": [],
      "source": [
        "import numpy as np\n",
        "class ScratchKMeans:\n",
        "  def _init(self, n_clusters, n_init, max_iter, tol, verbose=False):\n",
        "    self.n_clusters=n_clusters\n",
        "    self.n_init=n_init\n",
        "    self.max_iter=max_iter\n",
        "    self.tol=tol\n",
        "    self.verbose=verbose\n",
        "\n",
        "#[Problem 1] Determine the initial value of the center point\n",
        "\n",
        "\n",
        "#[Problem 2] Creation of a function to obtain SSE\n",
        "\n",
        "  def calc_sse(self, X):\n",
        "      sse = 0\n",
        "      for i in range(len(X)):\n",
        "          for j in range(self.n_clusters):\n",
        "              if j == X[i, -1]:\n",
        "                  sse += np.sum((X[i, :-1] - self.myu[j]) ** 2)\n",
        "      if self.best_sse > sse:\n",
        "          self.best_sse = sse\n",
        "          self.record_myu = self.myu\n",
        "          self.record_cluster = self.n_clusters"
      ]
    },
    {
      "cell_type": "code",
      "source": [
        "#[Problem 1] Determine the initial value of the center point\n",
        "\n",
        "from sklearn.datasets import make_blobs\n",
        "\n",
        "X, _ = make_blobs(\n",
        "    n_samples=100,\n",
        "    n_features=2,\n",
        "    centers=4,\n",
        "    cluster_std=0.5,\n",
        "    shuffle=True,\n",
        "    random_state=0,\n",
        ")\n",
        "\n",
        "self.myu = X[np.random.choice(len(X), size=self.n_clusters, replace=False)]\n"
      ],
      "metadata": {
        "id": "_naZ80K85OAN"
      },
      "execution_count": null,
      "outputs": []
    }
  ]
}