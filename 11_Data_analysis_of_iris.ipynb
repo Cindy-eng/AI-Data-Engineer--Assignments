{
  "nbformat": 4,
  "nbformat_minor": 0,
  "metadata": {
    "colab": {
      "provenance": [],
      "authorship_tag": "ABX9TyOW3ENsyn7zdfSlQH8jTBDN",
      "include_colab_link": true
    },
    "kernelspec": {
      "name": "python3",
      "display_name": "Python 3"
    },
    "language_info": {
      "name": "python"
    }
  },
  "cells": [
    {
      "cell_type": "markdown",
      "metadata": {
        "id": "view-in-github",
        "colab_type": "text"
      },
      "source": [
        "<a href=\"https://colab.research.google.com/github/Cindy-eng/AI-Data-Engineer--Assignments/blob/master/11_Data_analysis_of_iris.ipynb\" target=\"_parent\"><img src=\"https://colab.research.google.com/assets/colab-badge.svg\" alt=\"Open In Colab\"/></a>"
      ]
    },
    {
      "cell_type": "code",
      "execution_count": null,
      "metadata": {
        "id": "HEeo17tF8rDe"
      },
      "outputs": [],
      "source": [
        "#1. Data set preparation\n",
        "\n",
        "import pandas as pd\n"
      ]
    }
  ]
}