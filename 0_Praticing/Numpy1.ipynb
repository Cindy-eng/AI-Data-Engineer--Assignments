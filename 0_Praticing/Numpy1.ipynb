{
 "cells": [
  {
   "cell_type": "code",
   "execution_count": 10,
   "id": "52803357-6995-4604-aaca-87d880c3d8ac",
   "metadata": {},
   "outputs": [
    {
     "name": "stdout",
     "output_type": "stream",
     "text": [
      "[1 2 3]\n",
      "Type a : <class 'numpy.ndarray'>\n",
      "Shape b : (2, 3)\n",
      "Dim b 2\n",
      "b[0,1]: 23\n"
     ]
    }
   ],
   "source": [
    "#First I need to know that Numpy we use tho handle mastrix (1D,2D)\n",
    "#Is packge python that provide methods and functions to handle array and matrix\n",
    "#Is is used in data analysis\n",
    "#Lets pratice\n",
    "\n",
    "#first we need to import \n",
    "import numpy as np\n",
    "# after this we can create array with one-dimetions ou two\n",
    "a=np.array([1,2,3]);\n",
    "print(a)\n",
    "# and to create with to tho-dimenseional is that\n",
    "b=np.array([[1,23,12],[45,12,13]])\n",
    "#Alright we can use this :\n",
    "#type(a) to see the type , \n",
    "print('Type a :',type(a))\n",
    "#shape to see the number of element\n",
    "print('Shape b :',b.shape)\n",
    "#ndim to see how much dimesional\n",
    "print('Dim b',b.ndim);\n",
    "#As you see in b we have two dimensional so for see the specific value in b we use index\n",
    "print('b[0,1]:',b[0,1])\n",
    "#but we  can also use this to ond  dimensional\n",
    "#anyway we also use this b[-1] to retrieved the last number \n",
    "# we can use this b[1,:] just to retrieved the among numbers in the the index 1 \n",
    "#we also use this b[0:1] to change the number in this specif index\n"
   ]
  },
  {
   "cell_type": "code",
   "execution_count": 21,
   "id": "7b612369-62f3-4b0c-877b-b5b75cfe87f4",
   "metadata": {},
   "outputs": [
    {
     "name": "stdout",
     "output_type": "stream",
     "text": [
      "int64\n",
      "int16\n",
      "[ 1.  2. 65.]\n",
      "[[12  4]\n",
      " [ 6 89]\n",
      " [23 -2]]\n",
      "Generete three 0: [0. 0. 0.]  and with two dimensional : [[0. 0. 0.]\n",
      " [0. 0. 0.]\n",
      " [0. 0. 0.]]\n",
      "Generate three 1: [1. 1. 1.]\n",
      "Generate the both [[1. 0. 0.]\n",
      " [0. 1. 0.]\n",
      " [0. 0. 1.]]\n",
      "Generate specify values [5 5 5]\n",
      "Generate : [0.   0.25 0.5  0.75 1.  ]\n"
     ]
    }
   ],
   "source": [
    "#Varios methods in Numpy\n",
    "#What is diference between function and method\n",
    "#In numpy we have functions as sum()\n",
    "a=np.array([12,14,16]);\n",
    "np.sum(a)\n",
    "a.sum()\n",
    "#let is talk about dtype\n",
    "print(a.dtype)\n",
    "#basycally all the data is define as int64 but if you want something diferent you can declare\n",
    "a=np.array([1,2,65],dtype=np.int16)\n",
    "print(a.dtype)\n",
    "#but also we can change the type by concerting\n",
    "print(a.astype(np.float16))\n",
    "\n",
    "\n",
    "#Dimensional transformation\n",
    "c1=np.array([12,4,6,89,23,-2])\n",
    "c2=c1.reshape(3,2)\n",
    "print(c2)\n",
    "#we also have ravel and flatten to join the dimensional in one\n",
    "#the diference between them is ravel return a reference while flatten the copy\n",
    "\n",
    "#Duplication\n",
    "#When we do this  a=b that's mean that a is reference b and when we change \n",
    "#the specify index that's mean that a is going to change too that's why we have this\n",
    "c3=c1.copy()\n",
    "\n",
    "# Sequence\n",
    "# we use arange to determine a sequece of number\n",
    "d1=np.arange(10);\n",
    "d2=np.arange(1,11)\n",
    "d3=np.arange(1,11,2)\n",
    "\n",
    "#Random numbers\n",
    "#first we hava np.random.random(rows, columns) _ that generety number\n",
    "#we also use np.random.seed(123)\n",
    "#second we have np.random.randint(rows,column) or np.random.randint(lower,highter,(rows,columns)) to generety int number\n",
    "#and we have np.random.uniform(0.0, 5.0, size=(4, 2)) for float numbers\n",
    "#others functions to generate arrays\n",
    "print('Generete three 0:',np.zeros(3),' and with two dimensional :',np.zeros((3,3)))\n",
    "print('Generate three 1:',np.ones(3))\n",
    "print('Generate the both',np.eye(3))\n",
    "print('Generate specify values',np.full(3,5))\n",
    "print('Generate :',np.linspace(0, 1, 5))\n",
    "\n"
   ]
  },
  {
   "cell_type": "code",
   "execution_count": null,
   "id": "8472f9f6-a15c-4df2-8429-c292c162d569",
   "metadata": {},
   "outputs": [],
   "source": [
    "##"
   ]
  },
  {
   "cell_type": "code",
   "execution_count": 1,
   "id": "7e3e09c6-1d62-41dd-aeff-a98b6402a4e7",
   "metadata": {},
   "outputs": [
    {
     "name": "stdout",
     "output_type": "stream",
     "text": [
      "x: [0 1 2 3 4 5 6 7 8 9]\n",
      "[[67 93 99]\n",
      " [18 84 58]\n",
      " [87 98 97]]\n",
      "Reshape [[1 2 3]\n",
      " [4 5 6]\n",
      " [7 8 9]]\n"
     ]
    }
   ],
   "source": [
    "##Eercices\n",
    "\n",
    "# Beginner Level\n",
    "# Create a NumPy array\n",
    "# Create a 1D NumPy array with values from 0 to 9.\n",
    "import numpy as np\n",
    "x=np.arange(10)\n",
    "print('x:',x)\n",
    "# Create a 2D array\n",
    "# Create a 3×3 NumPy array filled with random integers between 1 and 100.\n",
    "np.random.seed(123)\n",
    "x=np.random.randint(1,100,(3,3))\n",
    "print(x)\n",
    "# Array shape and reshaping\n",
    "# Convert a 1D array of size 9 into a 3×3 matrix.\n",
    "y=np.array([1,2,3,4,5,6,7,8,9])\n",
    "y1=y.reshape((3,3))\n",
    "print('Reshape',y1)\n",
    "\n",
    "# Basic array operations\n",
    "# Create two 1D NumPy arrays of the same size and perform element-wise addition, subtraction, multiplication, and division.\n",
    "\n",
    "# Boolean masking\n",
    "# Given an array [10, 25, 30, 45, 50, 65], filter out elements that are greater than 30."
   ]
  },
  {
   "cell_type": "code",
   "execution_count": null,
   "id": "9d199eb8-8cd6-4637-8955-af60e99e9267",
   "metadata": {},
   "outputs": [],
   "source": []
  }
 ],
 "metadata": {
  "kernelspec": {
   "display_name": "Python 3 (ipykernel)",
   "language": "python",
   "name": "python3"
  },
  "language_info": {
   "codemirror_mode": {
    "name": "ipython",
    "version": 3
   },
   "file_extension": ".py",
   "mimetype": "text/x-python",
   "name": "python",
   "nbconvert_exporter": "python",
   "pygments_lexer": "ipython3",
   "version": "3.10.0"
  }
 },
 "nbformat": 4,
 "nbformat_minor": 5
}
