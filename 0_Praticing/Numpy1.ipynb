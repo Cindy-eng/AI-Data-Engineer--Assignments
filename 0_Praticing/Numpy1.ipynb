{
 "cells": [
  {
   "cell_type": "code",
   "execution_count": 10,
   "id": "52803357-6995-4604-aaca-87d880c3d8ac",
   "metadata": {},
   "outputs": [
    {
     "name": "stdout",
     "output_type": "stream",
     "text": [
      "[1 2 3]\n",
      "Type a : <class 'numpy.ndarray'>\n",
      "Shape b : (2, 3)\n",
      "Dim b 2\n",
      "b[0,1]: 23\n"
     ]
    }
   ],
   "source": [
    "#First I need to know that Numpy we use tho handle mastrix (1D,2D)\n",
    "#Is packge python that provide methods and functions to handle array and matrix\n",
    "#Is is used in data analysis\n",
    "#Lets pratice\n",
    "\n",
    "#first we need to import \n",
    "import numpy as np\n",
    "# after this we can create array with one-dimetions ou two\n",
    "a=np.array([1,2,3]);\n",
    "print(a)\n",
    "# and to create with to tho-dimenseional is that\n",
    "b=np.array([[1,23,12],[45,12,13]])\n",
    "#Alright we can use this :\n",
    "#type(a) to see the type , \n",
    "print('Type a :',type(a))\n",
    "#shape to see the number of element\n",
    "print('Shape b :',b.shape)\n",
    "#ndim to see how much dimesional\n",
    "print('Dim b',b.ndim);\n",
    "#As you see in b we have two dimensional so for see the specific value in b we use index\n",
    "print('b[0,1]:',b[0,1])\n",
    "#but we  can also use this to ond  dimensional\n",
    "#anyway we also use this b[-1] to retrieved the last number \n",
    "# we can use this b[1,:] just to retrieved the among numbers in the the index 1 \n",
    "#we also use this b[0:1] to change the number in this specif index\n"
   ]
  },
  {
   "cell_type": "code",
   "execution_count": 21,
   "id": "7b612369-62f3-4b0c-877b-b5b75cfe87f4",
   "metadata": {},
   "outputs": [
    {
     "name": "stdout",
     "output_type": "stream",
     "text": [
      "int64\n",
      "int16\n",
      "[ 1.  2. 65.]\n",
      "[[12  4]\n",
      " [ 6 89]\n",
      " [23 -2]]\n",
      "Generete three 0: [0. 0. 0.]  and with two dimensional : [[0. 0. 0.]\n",
      " [0. 0. 0.]\n",
      " [0. 0. 0.]]\n",
      "Generate three 1: [1. 1. 1.]\n",
      "Generate the both [[1. 0. 0.]\n",
      " [0. 1. 0.]\n",
      " [0. 0. 1.]]\n",
      "Generate specify values [5 5 5]\n",
      "Generate : [0.   0.25 0.5  0.75 1.  ]\n"
     ]
    }
   ],
   "source": [
    "#Varios methods in Numpy\n",
    "#What is diference between function and method\n",
    "#In numpy we have functions as sum()\n",
    "a=np.array([12,14,16]);\n",
    "np.sum(a)\n",
    "a.sum()\n",
    "#let is talk about dtype\n",
    "print(a.dtype)\n",
    "#basycally all the data is define as int64 but if you want something diferent you can declare\n",
    "a=np.array([1,2,65],dtype=np.int16)\n",
    "print(a.dtype)\n",
    "#but also we can change the type by concerting\n",
    "print(a.astype(np.float16))\n",
    "\n",
    "\n",
    "#Dimensional transformation\n",
    "c1=np.array([12,4,6,89,23,-2])\n",
    "c2=c1.reshape(3,2)\n",
    "print(c2)\n",
    "#we also have ravel and flatten to join the dimensional in one\n",
    "#the diference between them is ravel return a reference while flatten the copy\n",
    "\n",
    "#Duplication\n",
    "#When we do this  a=b that's mean that a is reference b and when we change \n",
    "#the specify index that's mean that a is going to change too that's why we have this\n",
    "c3=c1.copy()\n",
    "\n",
    "# Sequence\n",
    "# we use arange to determine a sequece of number\n",
    "d1=np.arange(10);\n",
    "d2=np.arange(1,11)\n",
    "d3=np.arange(1,11,2)\n",
    "\n",
    "#Random numbers\n",
    "#first we hava np.random.random(rows, columns) _ that generety number\n",
    "#we also use np.random.seed(123)\n",
    "#second we have np.random.randint(rows,column) or np.random.randint(lower,highter,(rows,columns)) to generety int number\n",
    "#and we have np.random.uniform(0.0, 5.0, size=(4, 2)) for float numbers\n",
    "#others functions to generate arrays\n",
    "print('Generete three 0:',np.zeros(3),' and with two dimensional :',np.zeros((3,3)))\n",
    "print('Generate three 1:',np.ones(3))\n",
    "print('Generate the both',np.eye(3))\n",
    "print('Generate specify values',np.full(3,5))\n",
    "print('Generate :',np.linspace(0, 1, 5))\n",
    "\n"
   ]
  },
  {
   "cell_type": "code",
   "execution_count": 13,
   "id": "8472f9f6-a15c-4df2-8429-c292c162d569",
   "metadata": {},
   "outputs": [
    {
     "data": {
      "text/plain": [
       "array([[5, 5, 5, 5],\n",
       "       [6, 6, 6, 6],\n",
       "       [7, 7, 7, 7]])"
      ]
     },
     "execution_count": 13,
     "metadata": {},
     "output_type": "execute_result"
    }
   ],
   "source": [
    "##Concatenating, Splitting, and Transforming Arrays with NumPy\n",
    "\n",
    "#we use diff to know the difference between numbers\n",
    "# we use concatenate to join numbers of different dimensioal\n",
    "# we also have hsplip to divide the numbers\n",
    "import numpy as np\n",
    "l=np.array([[1,2,3],[3,4,6],[8,9,10]])\n",
    "j=np.array([[17,5,3],[3,4,6],[8,9,10]])\n",
    "\n",
    "#np.diff(l)\n",
    "#np.concatenate([j,l])\n",
    "a = np.array([[1, 2, 10], [3, 4, 20], [5, 6, 30], [7, 8, 40]])\n",
    "cols,cols1=np.hsplit(a,[2])\n",
    "row1, row2 = np.vsplit(a, [2])\n",
    "#a.T\n",
    "#a[:,np.newaxis]\n",
    "#grid data\n",
    "x = np.array([1, 2, 3, 4])\n",
    "y = np.array([5, 6, 7])\n",
    "\n",
    "xx,yy=np.meshgrid(x,y)\n",
    "yy\n"
   ]
  },
  {
   "cell_type": "code",
   "execution_count": 16,
   "id": "7e3e09c6-1d62-41dd-aeff-a98b6402a4e7",
   "metadata": {},
   "outputs": [
    {
     "name": "stdout",
     "output_type": "stream",
     "text": [
      "x: [0 1 2 3 4 5 6 7 8 9]\n",
      "[[67 93 99]\n",
      " [18 84 58]\n",
      " [87 98 97]]\n",
      "Reshape [[1 2 3]\n",
      " [4 5 6]\n",
      " [7 8 9]]\n",
      "Addition : [ 10 101   6 131  -7 175 188]\n",
      "subtraction: [ -8 -55 -18  49  33 -75 -10]\n",
      "Multiplicatiom [   9 1794  -72 3690 -260 6250 8811]\n",
      "Division [ 0.11111111  0.29487179 -0.5         2.19512195 -0.65        0.4\n",
      "  0.8989899 ]\n",
      " value greater than 30 [45 50 65]\n",
      "Boolean value greater than 30 [False False False  True  True  True]\n"
     ]
    }
   ],
   "source": [
    "##Eercices\n",
    "\n",
    "# Beginner Level\n",
    "# Create a NumPy array\n",
    "# Create a 1D NumPy array with values from 0 to 9.\n",
    "import numpy as np\n",
    "x=np.arange(10)\n",
    "print('x:',x)\n",
    "# Create a 2D array\n",
    "# Create a 3×3 NumPy array filled with random integers between 1 and 100.\n",
    "np.random.seed(123)\n",
    "x=np.random.randint(1,100,(3,3))\n",
    "print(x)\n",
    "# Array shape and reshaping\n",
    "# Convert a 1D array of size 9 into a 3×3 matrix.\n",
    "y=np.array([1,2,3,4,5,6,7,8,9])\n",
    "y1=y.reshape((3,3))\n",
    "print('Reshape',y1)\n",
    "\n",
    "# Basic array operations\n",
    "# Create two 1D NumPy arrays of the same size and perform element-wise addition, subtraction, multiplication, and division.\n",
    "a=np.array([1,23,-6,90,13,50,89])\n",
    "b=np.array([9,78,12,41,-20,125,99])\n",
    "print('Addition :',a+b)\n",
    "print('subtraction:',a-b)\n",
    "print('Multiplicatiom',a*b)\n",
    "print('Division',a/b)\n",
    "\n",
    "\n",
    "# Boolean masking\n",
    "# Given an array [10, 25, 30, 45, 50, 65], filter out elements that are greater than 30.\n",
    "values=np.array( [10, 25, 30, 45, 50, 65])\n",
    "print(' value greater than 30',values[values>30])\n",
    "print('Boolean value greater than 30',values>30)\n"
   ]
  },
  {
   "cell_type": "code",
   "execution_count": 23,
   "id": "9d199eb8-8cd6-4637-8955-af60e99e9267",
   "metadata": {},
   "outputs": [
    {
     "name": "stdout",
     "output_type": "stream",
     "text": [
      "mean: 42.5\n",
      "median: 40.0\n",
      "standard: 23.21745033374681\n",
      "Unique_elemets [1 2 3 4]\n",
      "Counts  [1 2 3 4]\n"
     ]
    }
   ],
   "source": [
    "# Generate an identity matrix\n",
    "# Create a 5×5 identity matrix.\n",
    "import numpy as np\n",
    "matrix=np.eye(5)\n",
    "#matrix\n",
    "# Generate a diagonal matrix\n",
    "# Create a 4×4 diagonal matrix with values [1, 2, 3, 4] on the diagonal.\n",
    "matrix_diagonal=np.diag([1,2,3,4])\n",
    "#matrix_diagonal\n",
    "# Stacking arrays\n",
    "# Create two 1D NumPy arrays and stack them vertically and horizontally.\n",
    "array1=np.array([1,2,3,4,5])\n",
    "array2=np.array([16,3,-14,89,10])\n",
    "stack1=np.vstack((array1,array2))\n",
    "#stack1\n",
    "stack2=np.hstack((array1,array2))\n",
    "#stack2\n",
    "# Find the mean, median, and standard deviations\n",
    "# Given an array [12, 15, 22, 29, 35, 45, 50, 60, 72, 85], compute the mean, median, and standard deviation.\n",
    "arr=np.array([12, 15, 22, 29, 35, 45, 50, 60, 72, 85])\n",
    "print('mean:',np.mean(arr))\n",
    "print('median:',np.median(arr))\n",
    "print('standard:',np.std(arr))\n",
    "\n",
    "\n",
    "# Find unique elements and counts\n",
    "# Given an array [1, 2, 2, 3, 3, 3, 4, 4, 4, 4], find unique elements and their counts.\n",
    "arr=np.array([1, 2, 2, 3, 3, 3, 4, 4, 4, 4])\n",
    "unique ,counts=np.unique(arr,return_counts=True)\n",
    "print('Unique_elemets',unique)\n",
    "print('Counts ',counts)\n"
   ]
  },
  {
   "cell_type": "code",
   "execution_count": null,
   "id": "506835ed-ff60-4689-91f3-764af7bff7b4",
   "metadata": {},
   "outputs": [],
   "source": [
    "# Replace elements in an array\n",
    "# Replace all even numbers in a given array [10, 15, 20, 25, 30, 35] with -1.\n",
    "\n",
    "# Matrix multiplication\n",
    "# Multiply two matrices of size 3×3 using NumPy.\n",
    "\n",
    "# Sorting an array\n",
    "# Sort a NumPy array [12, 5, 8, 19, 2, 35, 42] in ascending and descending order.\n",
    "\n",
    "# Find the closest value in an array\n",
    "# Given a NumPy array [10, 20, 30, 40, 50], find the element closest to 33.\n",
    "\n",
    "# Broadcasting example\n",
    "# Create a 3×3 NumPy matrix and add a 1D array of shape (3,) to each row using broadcasting."
   ]
  }
 ],
 "metadata": {
  "kernelspec": {
   "display_name": "Python 3 (ipykernel)",
   "language": "python",
   "name": "python3"
  },
  "language_info": {
   "codemirror_mode": {
    "name": "ipython",
    "version": 3
   },
   "file_extension": ".py",
   "mimetype": "text/x-python",
   "name": "python",
   "nbconvert_exporter": "python",
   "pygments_lexer": "ipython3",
   "version": "3.10.0"
  }
 },
 "nbformat": 4,
 "nbformat_minor": 5
}
