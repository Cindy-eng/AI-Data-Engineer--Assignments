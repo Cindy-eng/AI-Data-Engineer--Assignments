{
 "cells": [
  {
   "cell_type": "code",
   "execution_count": 10,
   "id": "52803357-6995-4604-aaca-87d880c3d8ac",
   "metadata": {},
   "outputs": [
    {
     "name": "stdout",
     "output_type": "stream",
     "text": [
      "[1 2 3]\n",
      "Type a : <class 'numpy.ndarray'>\n",
      "Shape b : (2, 3)\n",
      "Dim b 2\n",
      "b[0,1]: 23\n"
     ]
    }
   ],
   "source": [
    "#First I need to know that Numpy we use tho handle mastrix (1D,2D)\n",
    "#Is packge python that provide methods and functions to handle array and matrix\n",
    "#Is is used in data analysis\n",
    "#Lets pratice\n",
    "\n",
    "#first we need to import \n",
    "import numpy as np\n",
    "# after this we can create array with one-dimetions ou two\n",
    "a=np.array([1,2,3]);\n",
    "print(a)\n",
    "# and to create with to tho-dimenseional is that\n",
    "b=np.array([[1,23,12],[45,12,13]])\n",
    "#Alright we can use this :\n",
    "#type(a) to see the type , \n",
    "print('Type a :',type(a))\n",
    "#shape to see the number of element\n",
    "print('Shape b :',b.shape)\n",
    "#ndim to see how much dimesional\n",
    "print('Dim b',b.ndim);\n",
    "#As you see in b we have two dimensional so for see the specific value in b we use index\n",
    "print('b[0,1]:',b[0,1])\n",
    "#but we  can also use this to ond  dimensional\n",
    "#anyway we also use this b[-1] to retrieved the last number \n",
    "# we can use this b[1,:] just to retrieved the among numbers in the the index 1 \n",
    "#we also use this b[0:1] to change the number in this specif index\n"
   ]
  },
  {
   "cell_type": "code",
   "execution_count": null,
   "id": "7b612369-62f3-4b0c-877b-b5b75cfe87f4",
   "metadata": {},
   "outputs": [],
   "source": [
    "#Varios methods in Numpy\n",
    "#What is diference between function and method"
   ]
  },
  {
   "cell_type": "code",
   "execution_count": null,
   "id": "8472f9f6-a15c-4df2-8429-c292c162d569",
   "metadata": {},
   "outputs": [],
   "source": []
  },
  {
   "cell_type": "code",
   "execution_count": null,
   "id": "7e3e09c6-1d62-41dd-aeff-a98b6402a4e7",
   "metadata": {},
   "outputs": [],
   "source": []
  }
 ],
 "metadata": {
  "kernelspec": {
   "display_name": "Python 3 (ipykernel)",
   "language": "python",
   "name": "python3"
  },
  "language_info": {
   "codemirror_mode": {
    "name": "ipython",
    "version": 3
   },
   "file_extension": ".py",
   "mimetype": "text/x-python",
   "name": "python",
   "nbconvert_exporter": "python",
   "pygments_lexer": "ipython3",
   "version": "3.10.0"
  }
 },
 "nbformat": 4,
 "nbformat_minor": 5
}
