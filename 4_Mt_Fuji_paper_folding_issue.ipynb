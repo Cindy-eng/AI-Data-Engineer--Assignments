{
  "nbformat": 4,
  "nbformat_minor": 0,
  "metadata": {
    "colab": {
      "provenance": [],
      "authorship_tag": "ABX9TyPHX1J5YsrZHQYI4fFfThtM",
      "include_colab_link": true
    },
    "kernelspec": {
      "name": "python3",
      "display_name": "Python 3"
    },
    "language_info": {
      "name": "python"
    }
  },
  "cells": [
    {
      "cell_type": "markdown",
      "metadata": {
        "id": "view-in-github",
        "colab_type": "text"
      },
      "source": [
        "<a href=\"https://colab.research.google.com/github/Cindy-eng/AI-Data-Engineer--Assignments/blob/master/4_Mt_Fuji_paper_folding_issue.ipynb\" target=\"_parent\"><img src=\"https://colab.research.google.com/assets/colab-badge.svg\" alt=\"Open In Colab\"/></a>"
      ]
    },
    {
      "cell_type": "code",
      "execution_count": 2,
      "metadata": {
        "colab": {
          "base_uri": "https://localhost:8080/"
        },
        "id": "C2IKGTrswd0M",
        "outputId": "7902edc5-3bd5-4747-c0f9-575e8a7ee7fe"
      },
      "outputs": [
        {
          "output_type": "stream",
          "name": "stdout",
          "text": [
            "Minimum number of folds required: 26\n"
          ]
        }
      ],
      "source": [
        "#[Problem 1] How many times to fold paper to exceed the height of Mt.Fuji\n",
        "\n",
        "height_MtFuji=3776\n",
        "thickness=0.00008\n",
        "time_fold=0\n",
        "while thickness<height_MtFuji:\n",
        "  thickness*=2\n",
        "  time_fold+=1\n",
        "\n",
        "print(f\"Minimum number of folds required: {time_fold}\")\n",
        "\n"
      ]
    },
    {
      "cell_type": "code",
      "source": [
        "#[Problem 2] Function corresponding to arbitrary thickness\n",
        "def calculate_folds(thickness,height):\n",
        "  time_fold=0\n",
        "  while thickness<height :\n",
        "    thickness*=2\n",
        "    time_fold+=1\n",
        "  return time_fold\n",
        "proxima_centauri_distance = 4.0175e16\n",
        "\n",
        "# Calculate folds for Proxima Centauri\n",
        "to_proxima_centauri_folds = calculate_folds(444444,proxima_centauri_distance)\n",
        "\n",
        "# Output the result\n",
        "print(f\"Minimum number of folds required to reach Proxima Centauri: {to_proxima_centauri_folds}\")\n"
      ],
      "metadata": {
        "colab": {
          "base_uri": "https://localhost:8080/"
        },
        "id": "jg8cX_Y_07ou",
        "outputId": "973eded5-bb1e-4698-fe8b-272d4400d197"
      },
      "execution_count": 3,
      "outputs": [
        {
          "output_type": "stream",
          "name": "stdout",
          "text": [
            "Minimum number of folds required to reach Proxima Centauri: 37\n"
          ]
        }
      ]
    },
    {
      "cell_type": "code",
      "source": [
        "#[Problem 3] Required paper length\n",
        "import math\n",
        "\n",
        "def calculate_paper_length(thickness,fold_number):\n",
        "  return ((math.pi*thickness)/6)*(2**fold_number+4)*(2**fold_number-1);\n",
        "\n",
        "length_paper=calculate_paper_length(888544,20)\n",
        "print(f\"Paper length required to reach Proxima Centauri: {length_paper} meters\")"
      ],
      "metadata": {
        "colab": {
          "base_uri": "https://localhost:8080/"
        },
        "id": "lTEIk7Rs5X1A",
        "outputId": "fb6d1857-ec0f-4374-f32a-788cf3296a76"
      },
      "execution_count": 8,
      "outputs": [
        {
          "output_type": "stream",
          "name": "stdout",
          "text": [
            "Paper length required to reach Proxima Centauri: 5.11538858467776e+17 meters\n"
          ]
        }
      ]
    }
  ]
}