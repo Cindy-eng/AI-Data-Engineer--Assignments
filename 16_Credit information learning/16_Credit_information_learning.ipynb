{
  "nbformat": 4,
  "nbformat_minor": 0,
  "metadata": {
    "colab": {
      "provenance": []
    },
    "kernelspec": {
      "name": "python3",
      "display_name": "Python 3"
    },
    "language_info": {
      "name": "python"
    }
  },
  "cells": [
    {
      "cell_type": "markdown",
      "source": [
        "#[Problem 1] Confirmation of competition contents\n",
        "\n",
        "##What to learn and what to predict?\n",
        "it is possible to learn the transactional information and we can predict clients repayment abilities.\n",
        "##What kind of file to create and submit to Kaggle?\n",
        "Well most of the time is used csv file to create and submit , in this file includs SK_ID_CURR,TARGET\n",
        "##What kind of index value will be used to evaluate the submissions?\n",
        "The index value used to evaluate submissions is ROC (Receiver operating characteristic)"
      ],
      "metadata": {
        "id": "QTv5ZQpQN9y-"
      }
    },
    {
      "cell_type": "code",
      "source": [
        "#[Problem 2] Learning and verification\n",
        "import pandas as pd\n",
        "from sklearn.model_selection import train_test_split\n",
        "from sklearn.metrics import roc_auc_score\n",
        "from sklearn.preprocessing import StandardScaler\n",
        "from sklearn.linear_model import LogisticRegression\n",
        "\n",
        "df1=pd.read_csv('application_train.csv')\n",
        "\n",
        "x=df1[['SK_ID_CURR','NAME_CONTRACT_TYPE','CODE_GENDER','AMT_INCOME_TOTAL','AMT_CREDIT','AMT_ANNUITY']]\n",
        "y=df1['TARGET'].values\n",
        "print('describe',x.describe())\n",
        "print('infor',x.info)\n",
        "x = pd.get_dummies(x, columns=['NAME_CONTRACT_TYPE', 'CODE_GENDER'])\n",
        "\n",
        "\n",
        "x_train,x_test,y_train,y_test=train_test_split(x,y,test_size=0.2,random_state=0)\n",
        "x_train = x_train.fillna(0)\n",
        "x_test = x_test.fillna(0)\n",
        "\n",
        "\n",
        "model=LogisticRegression()\n",
        "model.fit(x_train,y_train)\n",
        "\n",
        "y_pred=model.predict(x_test)\n",
        "print('roc_auc_score',roc_auc_score(y_test,y_pred))"
      ],
      "metadata": {
        "colab": {
          "base_uri": "https://localhost:8080/"
        },
        "id": "8p1OtxAiRKKd",
        "outputId": "11514e0f-c311-46c4-d285-c4fa90c9252e"
      },
      "execution_count": 14,
      "outputs": [
        {
          "output_type": "stream",
          "name": "stdout",
          "text": [
            "describe           SK_ID_CURR  AMT_INCOME_TOTAL    AMT_CREDIT    AMT_ANNUITY\n",
            "count  307511.000000      3.075110e+05  3.075110e+05  307499.000000\n",
            "mean   278180.518577      1.687979e+05  5.990260e+05   27108.573909\n",
            "std    102790.175348      2.371231e+05  4.024908e+05   14493.737315\n",
            "min    100002.000000      2.565000e+04  4.500000e+04    1615.500000\n",
            "25%    189145.500000      1.125000e+05  2.700000e+05   16524.000000\n",
            "50%    278202.000000      1.471500e+05  5.135310e+05   24903.000000\n",
            "75%    367142.500000      2.025000e+05  8.086500e+05   34596.000000\n",
            "max    456255.000000      1.170000e+08  4.050000e+06  258025.500000\n",
            "infor <bound method DataFrame.info of         SK_ID_CURR NAME_CONTRACT_TYPE CODE_GENDER  AMT_INCOME_TOTAL  \\\n",
            "0           100002         Cash loans           M          202500.0   \n",
            "1           100003         Cash loans           F          270000.0   \n",
            "2           100004    Revolving loans           M           67500.0   \n",
            "3           100006         Cash loans           F          135000.0   \n",
            "4           100007         Cash loans           M          121500.0   \n",
            "...            ...                ...         ...               ...   \n",
            "307506      456251         Cash loans           M          157500.0   \n",
            "307507      456252         Cash loans           F           72000.0   \n",
            "307508      456253         Cash loans           F          153000.0   \n",
            "307509      456254         Cash loans           F          171000.0   \n",
            "307510      456255         Cash loans           F          157500.0   \n",
            "\n",
            "        AMT_CREDIT  AMT_ANNUITY  \n",
            "0         406597.5      24700.5  \n",
            "1        1293502.5      35698.5  \n",
            "2         135000.0       6750.0  \n",
            "3         312682.5      29686.5  \n",
            "4         513000.0      21865.5  \n",
            "...            ...          ...  \n",
            "307506    254700.0      27558.0  \n",
            "307507    269550.0      12001.5  \n",
            "307508    677664.0      29979.0  \n",
            "307509    370107.0      20205.0  \n",
            "307510    675000.0      49117.5  \n",
            "\n",
            "[307511 rows x 6 columns]>\n",
            "roc_auc_score 0.5\n"
          ]
        }
      ]
    },
    {
      "cell_type": "code",
      "source": [
        "#[Problem 3] Estimation on test data\n",
        "import pandas as pd\n",
        "from sklearn.preprocessing import StandardScaler\n",
        "\n",
        "df2 = pd.read_csv('application_test.csv')\n",
        "\n",
        "cols_usadas = ['SK_ID_CURR','NAME_CONTRACT_TYPE','CODE_GENDER','AMT_INCOME_TOTAL','AMT_CREDIT','AMT_ANNUITY']\n",
        "x_test = df2[cols_usadas].copy()\n",
        "\n",
        "x_test = x_test.fillna(x_test.median(numeric_only=True))\n",
        "\n",
        "x_test = pd.get_dummies(x_test)\n",
        "\n",
        "x_train = pd.get_dummies(df1[cols_usadas])\n",
        "x_test = x_test.reindex(columns=x_train.columns, fill_value=0)\n",
        "\n",
        "scaler = StandardScaler()\n",
        "x_test_scaled = scaler.fit_transform(x_test)\n",
        "\n",
        "pred_prob = model.predict(x_test_scaled)\n",
        "submission = pd.DataFrame({\n",
        "    'SK_ID_CURR': x_test['SK_ID_CURR'],\n",
        "    'TARGET':pred_prob\n",
        "})\n",
        "\n",
        "submission.to_csv('submission.csv', index=False)\n",
        "print(\"File submission.csv created!\")"
      ],
      "metadata": {
        "colab": {
          "base_uri": "https://localhost:8080/"
        },
        "id": "kCmJHtrhWtIM",
        "outputId": "89ad9b10-762c-47e0-a6ee-17da208ad265"
      },
      "execution_count": 35,
      "outputs": [
        {
          "output_type": "stream",
          "name": "stdout",
          "text": [
            "File submission.csv created!\n"
          ]
        }
      ]
    },
    {
      "cell_type": "markdown",
      "source": [
        "kangle link: https://www.kaggle.com/competitions/home-credit-default-risk/submissions#"
      ],
      "metadata": {
        "id": "22YSnY-Ordiy"
      }
    },
    {
      "cell_type": "code",
      "source": [],
      "metadata": {
        "id": "g1tHMx-9rc3H"
      },
      "execution_count": null,
      "outputs": []
    },
    {
      "cell_type": "markdown",
      "source": [
        "#[Problem 4] Feature engineering\n",
        "##Which feature to use?\n",
        "I used some feature like this :'SK_ID_CURR','NAME_CONTRACT_TYPE','CODE_GENDER','AMT_INCOME_TOTAL','AMT_CREDIT','AMT_ANNUITY'\n",
        "##How to preprocess?\n",
        "- Convert categorical to number\n",
        "- Scale numeric values\n",
        "\n",
        "\n",
        "\n"
      ],
      "metadata": {
        "id": "X1ciEsBUj9mE"
      }
    },
    {
      "cell_type": "markdown",
      "source": [
        "#What I Did:\n",
        "- Selected different sets of features for the model, from simple numeric features to adding new features and categorical data.\n",
        "- Encoded categorical features into numbers so the model can use them.\n",
        "- Scaled features (standardized) in some patterns to help the model learn better.\n",
        "- Trained a logistic regression model on each set of features\n",
        "- Evaluated the model on validation data using the ROC AUC score, which measures how well the model separates defaults from non-defaults"
      ],
      "metadata": {
        "id": "8N49XPnunmJr"
      }
    },
    {
      "cell_type": "code",
      "source": [
        "import pandas as pd\n",
        "from sklearn.model_selection import train_test_split\n",
        "from sklearn.linear_model import LogisticRegression\n",
        "from sklearn.metrics import roc_auc_score\n",
        "\n",
        "# Load data\n",
        "train = pd.read_csv('application_train.csv')\n",
        "\n",
        "train['CREDIT_INCOME_RATIO'] = train['AMT_CREDIT'] / train['AMT_INCOME_TOTAL']\n",
        "\n",
        "def run_pattern(features):\n",
        "    X = train[features].fillna(0)  # Fill missing with 0\n",
        "    y = train['TARGET']\n",
        "\n",
        "    # Encode categorical features as numbers (simple)\n",
        "    for col in X.columns:\n",
        "        if X[col].dtype == 'object':\n",
        "            X[col] = pd.factorize(X[col])[0]\n",
        "\n",
        "    # Split data\n",
        "    X_train, X_val, y_train, y_val = train_test_split(X, y, test_size=0.2, random_state=42)\n",
        "\n",
        "    # Train model\n",
        "    model = LogisticRegression(max_iter=1000)\n",
        "    model.fit(X_train, y_train)\n",
        "\n",
        "    # Predict and evaluate\n",
        "    preds = model.predict_proba(X_val)[:,1]\n",
        "    auc = roc_auc_score(y_val, preds)\n",
        "    return auc\n",
        "\n",
        "# Define 5 feature sets (patterns)\n",
        "patterns = [\n",
        "    ['AMT_INCOME_TOTAL', 'AMT_CREDIT', 'DAYS_BIRTH'],\n",
        "    ['AMT_INCOME_TOTAL', 'AMT_CREDIT', 'DAYS_BIRTH', 'CREDIT_INCOME_RATIO'],\n",
        "    ['AMT_INCOME_TOTAL', 'AMT_CREDIT', 'DAYS_BIRTH', 'NAME_CONTRACT_TYPE'],\n",
        "    ['AMT_INCOME_TOTAL', 'AMT_CREDIT', 'DAYS_BIRTH', 'NAME_CONTRACT_TYPE', 'CODE_GENDER'],\n",
        "    ['AMT_INCOME_TOTAL', 'AMT_CREDIT', 'CREDIT_INCOME_RATIO']\n",
        "]\n",
        "\n",
        "for i, feats in enumerate(patterns, 1):\n",
        "    auc = run_pattern(feats)\n",
        "    print(f'Pattern {i} - Features: {feats} - Validation AUC: {auc:.4f}')\n"
      ],
      "metadata": {
        "colab": {
          "base_uri": "https://localhost:8080/"
        },
        "id": "pCkPAXc5oRAz",
        "outputId": "93cc5b72-0f44-4aac-e980-0256891d759e"
      },
      "execution_count": 34,
      "outputs": [
        {
          "output_type": "stream",
          "name": "stdout",
          "text": [
            "Pattern 1 - Features: ['AMT_INCOME_TOTAL', 'AMT_CREDIT', 'DAYS_BIRTH'] - Validation AUC: 0.5924\n",
            "Pattern 2 - Features: ['AMT_INCOME_TOTAL', 'AMT_CREDIT', 'DAYS_BIRTH', 'CREDIT_INCOME_RATIO'] - Validation AUC: 0.5924\n",
            "Pattern 3 - Features: ['AMT_INCOME_TOTAL', 'AMT_CREDIT', 'DAYS_BIRTH', 'NAME_CONTRACT_TYPE'] - Validation AUC: 0.5924\n",
            "Pattern 4 - Features: ['AMT_INCOME_TOTAL', 'AMT_CREDIT', 'DAYS_BIRTH', 'NAME_CONTRACT_TYPE', 'CODE_GENDER'] - Validation AUC: 0.6117\n",
            "Pattern 5 - Features: ['AMT_INCOME_TOTAL', 'AMT_CREDIT', 'CREDIT_INCOME_RATIO'] - Validation AUC: 0.5193\n"
          ]
        }
      ]
    },
    {
      "cell_type": "code",
      "source": [],
      "metadata": {
        "id": "LybL6bZQomGz"
      },
      "execution_count": null,
      "outputs": []
    }
  ]
}