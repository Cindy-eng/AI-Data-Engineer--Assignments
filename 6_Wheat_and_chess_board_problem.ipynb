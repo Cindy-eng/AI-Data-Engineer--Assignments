{
  "nbformat": 4,
  "nbformat_minor": 0,
  "metadata": {
    "colab": {
      "provenance": [],
      "authorship_tag": "ABX9TyM0B9LPp272Cb0C3YhwfQdF",
      "include_colab_link": true
    },
    "kernelspec": {
      "name": "python3",
      "display_name": "Python 3"
    },
    "language_info": {
      "name": "python"
    }
  },
  "cells": [
    {
      "cell_type": "markdown",
      "metadata": {
        "id": "view-in-github",
        "colab_type": "text"
      },
      "source": [
        "<a href=\"https://colab.research.google.com/github/Cindy-eng/AI-Data-Engineer--Assignments/blob/master/6_Wheat_and_chess_board_problem.ipynb\" target=\"_parent\"><img src=\"https://colab.research.google.com/assets/colab-badge.svg\" alt=\"Open In Colab\"/></a>"
      ]
    },
    {
      "cell_type": "code",
      "execution_count": 4,
      "metadata": {
        "id": "vgjSt3wnC7D_",
        "colab": {
          "base_uri": "https://localhost:8080/"
        },
        "outputId": "1faf7427-3c40-43e2-df95-3732ddf9157d"
      },
      "outputs": [
        {
          "output_type": "stream",
          "name": "stdout",
          "text": [
            "[[1 2]\n",
            " [4 8]]\n"
          ]
        }
      ],
      "source": [
        "# [Problem 1] Number of wheat on a 2 x 2 square chess board\n",
        "import numpy as np\n",
        "\n",
        "number_square = 4\n",
        "small_board=[1]\n",
        "for i in range (number_square-1):\n",
        "  small_board.append(2*small_board[-1]);\n",
        "\n",
        "small_board_array=np.array(small_board).reshape(2,2)\n",
        "print(small_board_array)\n",
        "\n"
      ]
    },
    {
      "cell_type": "code",
      "source": [
        "# [Problem 2] Expansion to n × m mass\n",
        "def chess_board(n,m):\n",
        "  number_square=n*m\n",
        "  small_board=[1]\n",
        "  for i in range(number_square-1):\n",
        "    small_board.append(2*small_board[-1])\n",
        "  return np.array(small_board).reshape(n,m)\n",
        "\n",
        "print(chess_board(8,8))\n"
      ],
      "metadata": {
        "colab": {
          "base_uri": "https://localhost:8080/"
        },
        "id": "b9-pTohNH0tG",
        "outputId": "9afbdc6f-9712-4db9-a074-bee7356e7cee"
      },
      "execution_count": 7,
      "outputs": [
        {
          "output_type": "stream",
          "name": "stdout",
          "text": [
            "[[1.00000000e+00 2.00000000e+00 4.00000000e+00 8.00000000e+00\n",
            "  1.60000000e+01 3.20000000e+01 6.40000000e+01 1.28000000e+02]\n",
            " [2.56000000e+02 5.12000000e+02 1.02400000e+03 2.04800000e+03\n",
            "  4.09600000e+03 8.19200000e+03 1.63840000e+04 3.27680000e+04]\n",
            " [6.55360000e+04 1.31072000e+05 2.62144000e+05 5.24288000e+05\n",
            "  1.04857600e+06 2.09715200e+06 4.19430400e+06 8.38860800e+06]\n",
            " [1.67772160e+07 3.35544320e+07 6.71088640e+07 1.34217728e+08\n",
            "  2.68435456e+08 5.36870912e+08 1.07374182e+09 2.14748365e+09]\n",
            " [4.29496730e+09 8.58993459e+09 1.71798692e+10 3.43597384e+10\n",
            "  6.87194767e+10 1.37438953e+11 2.74877907e+11 5.49755814e+11]\n",
            " [1.09951163e+12 2.19902326e+12 4.39804651e+12 8.79609302e+12\n",
            "  1.75921860e+13 3.51843721e+13 7.03687442e+13 1.40737488e+14]\n",
            " [2.81474977e+14 5.62949953e+14 1.12589991e+15 2.25179981e+15\n",
            "  4.50359963e+15 9.00719925e+15 1.80143985e+16 3.60287970e+16]\n",
            " [7.20575940e+16 1.44115188e+17 2.88230376e+17 5.76460752e+17\n",
            "  1.15292150e+18 2.30584301e+18 4.61168602e+18 9.22337204e+18]]\n"
          ]
        }
      ]
    },
    {
      "cell_type": "code",
      "source": [
        "#[Problem 3] Total number of wheat\n",
        "import matplotlib.pyplot as plt\n",
        "\n",
        "chess_board = np.array([2**i for i in range(8*8)]).reshape(8,8)\n",
        "total_wheat = chess_board.sum()\n",
        "average=chess_board.mean(axis=0)\n",
        "\n",
        "print('The total of wheat ia',total_wheat)\n",
        "plt.xlabel('Column')\n",
        "plt.ylabel('Number')\n",
        "plt.bar(range(1,9),average , color='blue' , alpha=0.7)\n",
        "plt.title('Average number ')\n",
        "plt.show();\n"
      ],
      "metadata": {
        "colab": {
          "base_uri": "https://localhost:8080/",
          "height": 489
        },
        "id": "17wetDbgJlsL",
        "outputId": "4cedafd6-e300-422e-e875-11fba92c6a97"
      },
      "execution_count": 14,
      "outputs": [
        {
          "output_type": "stream",
          "name": "stdout",
          "text": [
            "The total of wheat ia 1.8446744073709552e+19\n"
          ]
        },
        {
          "output_type": "display_data",
          "data": {
            "text/plain": [
              "<Figure size 640x480 with 1 Axes>"
            ],
            "image/png": "[encoded data removed]"
          },
          "metadata": {}
        }
      ]
    },
    {
      "cell_type": "code",
      "source": [],
      "metadata": {
        "id": "_NaQ8xWjRPE6"
      },
      "execution_count": null,
      "outputs": []
    }
  ]
}