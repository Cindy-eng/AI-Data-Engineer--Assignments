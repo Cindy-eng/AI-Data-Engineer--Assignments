{
 "cells": [
  {
   "cell_type": "code",
   "execution_count": 19,
   "id": "4123318a-b81b-44d2-a440-beaae2b7a669",
   "metadata": {},
   "outputs": [
    {
     "name": "stdout",
     "output_type": "stream",
     "text": [
      "1-gram:\n",
      "   a  best  ever  funny  is  movie  soooo  this  what\n",
      "0  0     0     0      1   1      1      1     1     0\n",
      "1  1     0     0      0   0      1      0     0     1\n",
      "2  0     1     1      0   0      2      0     1     0\n",
      "\n",
      "2-gram:\n",
      "   a movie  best movie  ever this  is soooo  movie ever  movie is  \\\n",
      "0        0           0          0         1           0         1   \n",
      "1        1           0          0         0           0         0   \n",
      "2        0           1          1         0           1         0   \n",
      "\n",
      "   soooo funny  this movie  what a  \n",
      "0            1           1       0  \n",
      "1            0           0       1  \n",
      "2            0           1       0  \n"
     ]
    }
   ],
   "source": [
    "#[Problem 1] Scratch implementation of BoW\n",
    "\n",
    "import re\n",
    "import pandas as pd\n",
    "from collections import Counter\n",
    "\n",
    "docs = [\n",
    "    \"This movie is SOOOO funny!!!!\",\n",
    "    \"What a movie!\",\n",
    "    \"best movie ever!!!!! this movie\",\n",
    "]\n",
    "labels = [1, 0, 1]   \n",
    "\n",
    "def tokenize(text):\n",
    "    return re.findall(r\"\\b\\w+\\b\", text.lower())\n",
    "\n",
    "def build_vocab(docs, n=1):\n",
    "    vocab = set()\n",
    "    for doc in docs:\n",
    "        tokens = tokenize(doc)\n",
    "        if n > 1:\n",
    "            tokens = [\" \".join(tokens[i:i+n]) for i in range(len(tokens)-n+1)]\n",
    "        vocab.update(tokens)\n",
    "    return sorted(vocab)\n",
    "\n",
    "def bow_matrix(docs, n=1):\n",
    "    vocab = build_vocab(docs, n)\n",
    "    rows = []\n",
    "    for doc in docs:\n",
    "        tokens = tokenize(doc)\n",
    "        if n > 1:\n",
    "            tokens = [\" \".join(tokens[i:i+n]) for i in range(len(tokens)-n+1)]\n",
    "        counts = Counter(tokens)\n",
    "        rows.append([counts.get(word, 0) for word in vocab])\n",
    "    return pd.DataFrame(rows, columns=vocab)\n",
    "\n",
    "print(\"1-gram:\")\n",
    "print(bow_matrix(docs, n=1))\n",
    "\n",
    "print(\"\\n2-gram:\")\n",
    "print(bow_matrix(docs, n=2))\n"
   ]
  },
  {
   "cell_type": "code",
   "execution_count": 20,
   "id": "3515631c-b72f-45f0-9e0f-db7cfb5caf66",
   "metadata": {},
   "outputs": [
    {
     "name": "stdout",
     "output_type": "stream",
     "text": [
      "Vocabulary:\n",
      " ['best' 'best movie' 'ever' 'ever this' 'funny' 'is' 'is soooo' 'movie'\n",
      " 'movie ever' 'movie is' 'soooo' 'soooo funny' 'this' 'this movie' 'what'\n",
      " 'what movie']\n",
      "\n",
      "TF-IDF matrix:\n",
      "     best  best movie   ever  ever this  funny     is  is soooo  movie  \\\n",
      "0  0.000       0.000  0.000      0.000  0.365  0.365     0.365  0.216   \n",
      "1  0.000       0.000  0.000      0.000  0.000  0.000     0.000  0.385   \n",
      "2  0.364       0.364  0.364      0.364  0.000  0.000     0.000  0.430   \n",
      "\n",
      "   movie ever  movie is  soooo  soooo funny   this  this movie   what  \\\n",
      "0       0.000     0.365  0.365        0.365  0.278       0.278  0.000   \n",
      "1       0.000     0.000  0.000        0.000  0.000       0.000  0.652   \n",
      "2       0.364     0.000  0.000        0.000  0.277       0.277  0.000   \n",
      "\n",
      "   what movie  \n",
      "0       0.000  \n",
      "1       0.652  \n",
      "2       0.000  \n"
     ]
    }
   ],
   "source": [
    "#[Problem 2] TF-IDF calculation\n",
    "from sklearn.feature_extraction.text import TfidfVectorizer\n",
    "\n",
    "vec = TfidfVectorizer(ngram_range=(1,2), lowercase=True)\n",
    "\n",
    "data = vec.fit_transform(docs)\n",
    "vocabulary = vec.get_feature_names_out()\n",
    "print(\"Vocabulary:\\n\", vocabulary)\n",
    "\n",
    "df_tfidf = pd.DataFrame(data.toarray(), columns=vocabulary)\n",
    "print(\"\\nTF-IDF matrix:\\n\", df_tfidf.round(3)) \n"
   ]
  },
  {
   "cell_type": "code",
   "execution_count": 21,
   "id": "64d5b614-6964-4229-b4c8-8a0126bd3343",
   "metadata": {},
   "outputs": [
    {
     "name": "stdout",
     "output_type": "stream",
     "text": [
      "Accuracy: 1.0\n"
     ]
    }
   ],
   "source": [
    "#Problem 3] Learning with TF-IDF\n",
    "from sklearn.linear_model import LogisticRegression\n",
    "from sklearn.model_selection import train_test_split\n",
    "from sklearn.metrics import accuracy_score\n",
    "\n",
    "X_train, X_test, y_train, y_test = train_test_split(data, labels, test_size=0.2, random_state=42)\n",
    "\n",
    "model = LogisticRegression(max_iter=200)\n",
    "model.fit(X_train, y_train)\n",
    "y_pred = model.predict(X_test)\n",
    "\n",
    "print(\"Accuracy:\", accuracy_score(y_test, y_pred))\n"
   ]
  },
  {
   "cell_type": "code",
   "execution_count": 22,
   "id": "8e980f79-8c75-40be-a5e2-f6a31e5ec42c",
   "metadata": {},
   "outputs": [
    {
     "name": "stdout",
     "output_type": "stream",
     "text": [
      "Standard TF-IDF:\n",
      "           a      best      ever     funny         i        is  movie  \\\n",
      "0  0.000000  0.000000  0.000000  1.098612  0.000000  1.098612    0.0   \n",
      "1  1.098612  0.000000  0.000000  0.000000  1.098612  0.000000    0.0   \n",
      "2  0.000000  1.098612  1.098612  0.000000  0.000000  0.000000    0.0   \n",
      "\n",
      "      never     soooo      this      what  \n",
      "0  0.000000  1.098612  0.405465  0.000000  \n",
      "1  1.098612  0.000000  0.000000  1.098612  \n",
      "2  0.000000  0.000000  0.405465  0.000000  \n",
      "\n",
      "scikit-learn TF-IDF:\n",
      "           a      best      ever     funny         i        is  movie  \\\n",
      "0  0.000000  0.000000  0.000000  1.693147  0.000000  1.693147    1.0   \n",
      "1  1.693147  0.000000  0.000000  0.000000  1.693147  0.000000    1.0   \n",
      "2  0.000000  1.693147  1.693147  0.000000  0.000000  0.000000    2.0   \n",
      "\n",
      "      never     soooo      this      what  \n",
      "0  0.000000  1.693147  1.287682  0.000000  \n",
      "1  1.693147  0.000000  0.000000  1.693147  \n",
      "2  0.000000  0.000000  1.287682  0.000000  \n"
     ]
    }
   ],
   "source": [
    "#Problem 4: Scratch mounting of TF-IDF\n",
    "\n",
    "import numpy as np\n",
    "import pandas as pd\n",
    "from collections import Counter\n",
    "import re\n",
    "\n",
    "docs = [\n",
    "    \"This movie is SOOOO funny!!!\",\n",
    "    \"What a movie! I never\",\n",
    "    \"best movie ever!!!!! this movie\",\n",
    "]\n",
    "\n",
    "def tokenize(text):\n",
    "    return re.findall(r\"\\b\\w+\\b\", text.lower())\n",
    "\n",
    "# Build vocabulary\n",
    "tokens_per_doc = [tokenize(d) for d in docs]\n",
    "vocab = sorted(set(sum(tokens_per_doc, [])))\n",
    "N = len(docs)\n",
    "\n",
    "# BoW counts\n",
    "bow = []\n",
    "for tokens in tokens_per_doc:\n",
    "    c = Counter(tokens)\n",
    "    bow.append([c.get(w, 0) for w in vocab])\n",
    "bow = np.array(bow)\n",
    "\n",
    "# Document frequency\n",
    "df = np.sum(bow > 0, axis=0)\n",
    "\n",
    "# --- Standard TF-IDF ---\n",
    "idf_std = np.log(N / df)\n",
    "tfidf_std = bow * idf_std\n",
    "\n",
    "# --- scikit-learn style ---\n",
    "idf_sklearn = np.log((1 + N) / (1 + df)) + 1\n",
    "tfidf_sklearn = bow * idf_sklearn\n",
    "\n",
    "df_std = pd.DataFrame(tfidf_std, columns=vocab)\n",
    "df_sklearn = pd.DataFrame(tfidf_sklearn, columns=vocab)\n",
    "\n",
    "print(\"Standard TF-IDF:\\n\", df_std)\n",
    "print(\"\\nscikit-learn TF-IDF:\\n\", df_sklearn)\n"
   ]
  },
  {
   "cell_type": "code",
   "execution_count": 23,
   "id": "43f6cba8-e2fe-4a13-a5ce-81b7b19fc16a",
   "metadata": {},
   "outputs": [
    {
     "name": "stdout",
     "output_type": "stream",
     "text": [
      "[['this', 'movie', 'is', 'soooo', 'funny'], ['check', 'this', 'out', 'best', 'movie', 'ever'], ['i', 'hated', 'this', 'film']]\n"
     ]
    }
   ],
   "source": [
    "#[Problem 5] Pre-processing of corpus\n",
    "import re\n",
    "\n",
    "docs = [\n",
    "    \"This movie is SOOOO funny!!!!\",\n",
    "    \"Check this out: https://example.com Best movie ever\",\n",
    "    \"I HATED this film...\"\n",
    "]\n",
    "\n",
    "def preprocess(text):\n",
    "    text = text.lower()                                 \n",
    "    text = re.sub(r\"http\\S+|www\\S+\", \"\", text)          \n",
    "    text = re.sub(r\"[^a-z\\s]\", \"\", text)               \n",
    "    tokens = text.split()                              \n",
    "    return tokens\n",
    "\n",
    "corpus = [preprocess(doc) for doc in docs]\n",
    "print(corpus)\n"
   ]
  },
  {
   "cell_type": "code",
   "execution_count": 38,
   "id": "ce0ce09e-1da3-441d-9c63-5ad7ff65b6b8",
   "metadata": {},
   "outputs": [
    {
     "name": "stdout",
     "output_type": "stream",
     "text": [
      "Epoch 1/10\n"
     ]
    },
    {
     "name": "stderr",
     "output_type": "stream",
     "text": [
      "C:\\Users\\USER\\.pyenv\\pyenv-win\\versions\\3.10.0\\lib\\site-packages\\keras\\src\\layers\\core\\embedding.py:97: UserWarning: Argument `input_length` is deprecated. Just remove it.\n",
      "  warnings.warn(\n"
     ]
    },
    {
     "name": "stdout",
     "output_type": "stream",
     "text": [
      "\u001b[1m1/1\u001b[0m \u001b[32m━━━━━━━━━━━━━━━━━━━━\u001b[0m\u001b[37m\u001b[0m \u001b[1m2s\u001b[0m 2s/step - accuracy: 0.3333 - loss: 0.6926\n",
      "Epoch 2/10\n",
      "\u001b[1m1/1\u001b[0m \u001b[32m━━━━━━━━━━━━━━━━━━━━\u001b[0m\u001b[37m\u001b[0m \u001b[1m0s\u001b[0m 94ms/step - accuracy: 0.3333 - loss: 0.6908\n",
      "Epoch 3/10\n",
      "\u001b[1m1/1\u001b[0m \u001b[32m━━━━━━━━━━━━━━━━━━━━\u001b[0m\u001b[37m\u001b[0m \u001b[1m0s\u001b[0m 107ms/step - accuracy: 0.6667 - loss: 0.6891\n",
      "Epoch 4/10\n",
      "\u001b[1m1/1\u001b[0m \u001b[32m━━━━━━━━━━━━━━━━━━━━\u001b[0m\u001b[37m\u001b[0m \u001b[1m0s\u001b[0m 150ms/step - accuracy: 0.6667 - loss: 0.6874\n",
      "Epoch 5/10\n",
      "\u001b[1m1/1\u001b[0m \u001b[32m━━━━━━━━━━━━━━━━━━━━\u001b[0m\u001b[37m\u001b[0m \u001b[1m0s\u001b[0m 111ms/step - accuracy: 0.6667 - loss: 0.6856\n",
      "Epoch 6/10\n",
      "\u001b[1m1/1\u001b[0m \u001b[32m━━━━━━━━━━━━━━━━━━━━\u001b[0m\u001b[37m\u001b[0m \u001b[1m0s\u001b[0m 96ms/step - accuracy: 1.0000 - loss: 0.6839\n",
      "Epoch 7/10\n",
      "\u001b[1m1/1\u001b[0m \u001b[32m━━━━━━━━━━━━━━━━━━━━\u001b[0m\u001b[37m\u001b[0m \u001b[1m0s\u001b[0m 101ms/step - accuracy: 1.0000 - loss: 0.6822\n",
      "Epoch 8/10\n",
      "\u001b[1m1/1\u001b[0m \u001b[32m━━━━━━━━━━━━━━━━━━━━\u001b[0m\u001b[37m\u001b[0m \u001b[1m0s\u001b[0m 101ms/step - accuracy: 1.0000 - loss: 0.6805\n",
      "Epoch 9/10\n",
      "\u001b[1m1/1\u001b[0m \u001b[32m━━━━━━━━━━━━━━━━━━━━\u001b[0m\u001b[37m\u001b[0m \u001b[1m0s\u001b[0m 102ms/step - accuracy: 1.0000 - loss: 0.6788\n",
      "Epoch 10/10\n",
      "\u001b[1m1/1\u001b[0m \u001b[32m━━━━━━━━━━━━━━━━━━━━\u001b[0m\u001b[37m\u001b[0m \u001b[1m0s\u001b[0m 112ms/step - accuracy: 1.0000 - loss: 0.6771\n"
     ]
    },
    {
     "data": {
      "text/plain": [
       "<keras.src.callbacks.history.History at 0x1c5e1427160>"
      ]
     },
     "execution_count": 38,
     "metadata": {},
     "output_type": "execute_result"
    }
   ],
   "source": [
    "#Problem 6: Learning Word2Vec\n",
    "\n",
    "from tensorflow.keras.preprocessing.text import Tokenizer\n",
    "from tensorflow.keras.preprocessing.sequence import pad_sequences\n",
    "from tensorflow.keras.models import Sequential\n",
    "from tensorflow.keras.layers import Embedding, GlobalAveragePooling1D, Dense\n",
    "\n",
    "docs = [\"This movie was fantastic!\", \"I hated this film...\", \"Best ever!\"]\n",
    "labels = [1, 0, 1]\n",
    "\n",
    "tokenizer = Tokenizer()\n",
    "tokenizer.fit_on_texts(docs)\n",
    "sequences = tokenizer.texts_to_sequences(docs)\n",
    "word_index = tokenizer.word_index\n",
    "\n",
    "X = pad_sequences(sequences, padding='post')\n",
    "y = np.array(labels)   # <- aqui corrige\n",
    "\n",
    "model = Sequential([\n",
    "    Embedding(input_dim=len(word_index)+1, output_dim=10, input_length=X.shape[1]),\n",
    "    GlobalAveragePooling1D(),\n",
    "    Dense(1, activation='sigmoid')\n",
    "])\n",
    "\n",
    "model.compile(optimizer=\"adam\", loss=\"binary_crossentropy\", metrics=[\"accuracy\"])\n",
    "model.fit(X, y, epochs=10, verbose=1)\n"
   ]
  },
  {
   "cell_type": "code",
   "execution_count": 39,
   "id": "44dbba73-9f62-48ef-89dd-4da7bcc12c7f",
   "metadata": {},
   "outputs": [
    {
     "data": {
      "image/png": "[encoded data removed]",
      "text/plain": [
       "<Figure size 800x600 with 1 Axes>"
      ]
     },
     "metadata": {},
     "output_type": "display_data"
    }
   ],
   "source": [
    "#[Problem 7] (Advance assignment) Vector Visualization\n",
    "\n",
    "import matplotlib.pyplot as plt\n",
    "from sklearn.manifold import TSNE\n",
    "\n",
    "embedding_layer = model.layers[0]\n",
    "weights = embedding_layer.get_weights()[0]   # matriz (vocab_size x embedding_dim)\n",
    "\n",
    "word_index = tokenizer.word_index\n",
    "reverse_word_index = {v: k for k, v in word_index.items()}\n",
    "\n",
    "words = list(word_index.keys())\n",
    "X = weights[1:len(words)+1]   # índice 0 é padding\n",
    "\n",
    "tsne = TSNE(n_components=2, random_state=42, perplexity=5)\n",
    "X_2d = tsne.fit_transform(X)\n",
    "\n",
    "plt.figure(figsize=(8,6))\n",
    "plt.scatter(X_2d[:,0], X_2d[:,1])\n",
    "for i, word in enumerate(words):\n",
    "    plt.annotate(word, (X_2d[i,0], X_2d[i,1]))\n",
    "plt.show()\n"
   ]
  },
  {
   "cell_type": "code",
   "execution_count": 42,
   "id": "dfd57af0-02f1-46fa-9d2f-3f28054f3efc",
   "metadata": {},
   "outputs": [
    {
     "name": "stdout",
     "output_type": "stream",
     "text": [
      "Predictions: [1 1 1]\n"
     ]
    }
   ],
   "source": [
    "#[Issue 8] (Advance assignment) Classification of movie reviews using Word2Vec\n",
    "\n",
    "from sklearn.linear_model import LogisticRegression\n",
    "\n",
    "embedding_layer = model.layers[0]\n",
    "weights = embedding_layer.get_weights()[0]  # shape: vocab_size x embedding_dim\n",
    "\n",
    "word_index = tokenizer.word_index\n",
    "index_to_word = {v:k for k,v in word_index.items()}\n",
    "\n",
    "def doc_vector(tokens):\n",
    "    vectors = []\n",
    "    for w in tokens:\n",
    "        idx = word_index.get(w)\n",
    "        if idx is not None: \n",
    "            vectors.append(weights[idx])\n",
    "    if len(vectors) == 0:\n",
    "        return np.zeros(weights.shape[1])\n",
    "    return np.mean(vectors, axis=0)\n",
    "\n",
    "corpus_tokens = [[\"this\",\"movie\",\"was\",\"fantastic\"],\n",
    "                 [\"i\",\"hated\",\"this\",\"film\"],\n",
    "                 [\"best\",\"ever\"]]\n",
    "\n",
    "X = np.array([doc_vector(doc) for doc in corpus_tokens])\n",
    "y = [1, 0, 1]  # exemplo de labels\n",
    "\n",
    "clf = LogisticRegression(max_iter=200)\n",
    "clf.fit(X, y)\n",
    "\n",
    "print(\"Predictions:\", clf.predict(X))\n"
   ]
  },
  {
   "cell_type": "code",
   "execution_count": null,
   "id": "32824cf2-2c4e-4c38-9726-337543de2b3e",
   "metadata": {},
   "outputs": [],
   "source": []
  }
 ],
 "metadata": {
  "kernelspec": {
   "display_name": "Python 3 (ipykernel)",
   "language": "python",
   "name": "python3"
  },
  "language_info": {
   "codemirror_mode": {
    "name": "ipython",
    "version": 3
   },
   "file_extension": ".py",
   "mimetype": "text/x-python",
   "name": "python",
   "nbconvert_exporter": "python",
   "pygments_lexer": "ipython3",
   "version": "3.10.0"
  }
 },
 "nbformat": 4,
 "nbformat_minor": 5
}
