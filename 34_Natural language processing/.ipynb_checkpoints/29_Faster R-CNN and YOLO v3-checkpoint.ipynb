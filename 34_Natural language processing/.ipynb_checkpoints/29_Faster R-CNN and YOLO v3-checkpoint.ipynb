{
 "cells": [
  {
   "cell_type": "code",
   "execution_count": 8,
   "id": "80e3bdcb-7631-4719-b306-8832e96c0dba",
   "metadata": {
    "scrolled": true
   },
   "outputs": [
    {
     "ename": "ModuleNotFoundError",
     "evalue": "No module named 'models'",
     "output_type": "error",
     "traceback": [
      "\u001b[1;31m---------------------------------------------------------------------------\u001b[0m",
      "\u001b[1;31mModuleNotFoundError\u001b[0m                       Traceback (most recent call last)",
      "Cell \u001b[1;32mIn[8], line 8\u001b[0m\n\u001b[0;32m      4\u001b[0m \u001b[38;5;28;01mimport\u001b[39;00m \u001b[38;5;21;01msys\u001b[39;00m\n\u001b[0;32m      5\u001b[0m \u001b[38;5;28;01mimport\u001b[39;00m \u001b[38;5;21;01mos\u001b[39;00m\n\u001b[1;32m----> 8\u001b[0m \u001b[38;5;28;01mfrom\u001b[39;00m \u001b[38;5;21;01mmodels\u001b[39;00m\u001b[38;5;21;01m.\u001b[39;00m\u001b[38;5;21;01mfrcnn\u001b[39;00m \u001b[38;5;28;01mimport\u001b[39;00m FRCNN\n\u001b[0;32m      9\u001b[0m model \u001b[38;5;241m=\u001b[39m FRCNN()\n\u001b[0;32m     11\u001b[0m img \u001b[38;5;241m=\u001b[39m image\u001b[38;5;241m.\u001b[39mload_img(\u001b[38;5;124m\"\u001b[39m\u001b[38;5;124mimage.jpg\u001b[39m\u001b[38;5;124m\"\u001b[39m, target_size\u001b[38;5;241m=\u001b[39m(\u001b[38;5;241m600\u001b[39m, \u001b[38;5;241m600\u001b[39m))\n",
      "\u001b[1;31mModuleNotFoundError\u001b[0m: No module named 'models'"
     ]
    }
   ],
   "source": [
    "#[Problem 1] Learning and Estimation\n",
    "from keras.preprocessing import image\n",
    "import numpy as np\n",
    "import sys\n",
    "import os\n",
    "\n",
    "\n",
    "from models.frcnn import FRCNN\n",
    "model = FRCNN()\n",
    "\n",
    "img = image.load_img(\"image.jpg\", target_size=(600, 600))\n",
    "img_array = image.img_to_array(img)\n",
    "\n",
    "# predict\n",
    "boxes, scores, classes = model.predict(img_array)\n",
    "\n",
    "print(\"Boxes:\", boxes)\n",
    "print(\"Scores:\", scores)\n",
    "print(\"Classes:\", classes)\n"
   ]
  },
  {
   "cell_type": "code",
   "execution_count": 4,
   "id": "f070c06c-6f57-4bc2-aa65-3363662f7a2d",
   "metadata": {
    "scrolled": true
   },
   "outputs": [
    {
     "data": {
      "text/plain": [
       "True"
      ]
     },
     "execution_count": 4,
     "metadata": {},
     "output_type": "execute_result"
    }
   ],
   "source": [
    "import cv2\n",
    "import numpy as np\n",
    "\n",
    "img1 = np.ones((300, 300, 3), dtype=np.uint8) * 255\n",
    "cv2.rectangle(img1, (50, 50), (200, 200), (0, 0, 255), -1)  # quadrado vermelho\n",
    "cv2.imwrite(\"img1.jpg\", img1)\n",
    "\n",
    "img2 = np.ones((300, 300, 3), dtype=np.uint8) * 255\n",
    "cv2.rectangle(img2, (80, 100), (250, 250), (255, 0, 0), -1)  # quadrado azul\n",
    "cv2.imwrite(\"img2.jpg\", img2)\n",
    "  "
   ]
  },
  {
   "cell_type": "code",
   "execution_count": null,
   "id": "93eea15f-74d7-4164-a791-e7577a933cdd",
   "metadata": {},
   "outputs": [],
   "source": [
    "from tensorflow.keras.losses import categorical_crossentropy\n",
    "!python train.py -p annotation.txt"
   ]
  },
  {
   "cell_type": "code",
   "execution_count": 11,
   "id": "c4fbe6c4-8e77-4aeb-87a6-b3eb8ddc843b",
   "metadata": {},
   "outputs": [
    {
     "name": "stdout",
     "output_type": "stream",
     "text": [
      "<class 'NoneType'>\n"
     ]
    }
   ],
   "source": [
    "import cv2\n",
    "img = cv2.imread(\"/simpsons_dataset/abraham_grampa_simpson/pic_0000.jpg\")\n",
    "print(type(img))"
   ]
  },
  {
   "cell_type": "code",
   "execution_count": 24,
   "id": "a03150fe-6bd6-4afe-82c9-a577ca6fc2e5",
   "metadata": {
    "scrolled": true
   },
   "outputs": [
    {
     "name": "stderr",
     "output_type": "stream",
     "text": [
      "2025-08-22 20:49:46.502226: I tensorflow/core/util/port.cc:153] oneDNN custom operations are on. You may see slightly different numerical results due to floating-point round-off errors from different computation orders. To turn them off, set the environment variable `TF_ENABLE_ONEDNN_OPTS=0`.\n",
      "2025-08-22 20:49:48.388148: I tensorflow/core/util/port.cc:153] oneDNN custom operations are on. You may see slightly different numerical results due to floating-point round-off errors from different computation orders. To turn them off, set the environment variable `TF_ENABLE_ONEDNN_OPTS=0`.\n",
      "2025-08-22 20:49:54.369874: I tensorflow/core/platform/cpu_feature_guard.cc:210] This TensorFlow binary is optimized to use available CPU instructions in performance-critical operations.\n",
      "To enable the following instructions: SSE3 SSE4.1 SSE4.2 AVX AVX2 FMA, in other operations, rebuild TensorFlow with the appropriate compiler flags.\n",
      "C:\\Users\\USER\\.pyenv\\pyenv-win\\versions\\3.10.0\\lib\\site-packages\\keras\\src\\layers\\core\\wrapper.py:27: UserWarning: Do not pass an `input_shape`/`input_dim` argument to a layer. When using Sequential models, prefer using an `Input(shape)` object as the first layer in the model instead.\n",
      "  super().__init__(**kwargs)\n",
      "Traceback (most recent call last):\n",
      "  File \"C:\\Users\\USER\\OneDrive\\Documents\\Cursos\\AI Data Engineerng\\AI-Data-Engineer--Assignments\\29_Faster R-CNN and YOLO v3\\ObjectDetection\\predict.py\", line 246, in <module>\n",
      "    main()\n",
      "  File \"C:\\Users\\USER\\OneDrive\\Documents\\Cursos\\AI Data Engineerng\\AI-Data-Engineer--Assignments\\29_Faster R-CNN and YOLO v3\\ObjectDetection\\predict.py\", line 222, in main\n",
      "    model_rpn, model_classifier, model_classifier_only = get_models(C)\n",
      "  File \"C:\\Users\\USER\\OneDrive\\Documents\\Cursos\\AI Data Engineerng\\AI-Data-Engineer--Assignments\\29_Faster R-CNN and YOLO v3\\ObjectDetection\\predict.py\", line 65, in get_models\n",
      "    model_rpn.load_weights(C.model_path, by_name=True)\n",
      "  File \"C:\\Users\\USER\\.pyenv\\pyenv-win\\versions\\3.10.0\\lib\\site-packages\\keras\\src\\utils\\traceback_utils.py\", line 122, in error_handler\n",
      "    raise e.with_traceback(filtered_tb) from None\n",
      "  File \"C:\\Users\\USER\\.pyenv\\pyenv-win\\versions\\3.10.0\\lib\\site-packages\\h5py\\_hl\\files.py\", line 564, in __init__\n",
      "    fid = make_fid(name, mode, userblock_size, fapl, fcpl, swmr=swmr)\n",
      "  File \"C:\\Users\\USER\\.pyenv\\pyenv-win\\versions\\3.10.0\\lib\\site-packages\\h5py\\_hl\\files.py\", line 238, in make_fid\n",
      "    fid = h5f.open(name, flags, fapl=fapl)\n",
      "  File \"h5py/_objects.pyx\", line 56, in h5py._objects.with_phil.wrapper\n",
      "  File \"h5py/_objects.pyx\", line 57, in h5py._objects.with_phil.wrapper\n",
      "  File \"h5py/h5f.pyx\", line 102, in h5py.h5f.open\n",
      "FileNotFoundError: [Errno 2] Unable to synchronously open file (unable to open file: name = './save\\train_20250822-200732_model.hdf5', errno = 2, error message = 'No such file or directory', flags = 0, o_flags = 0)\n"
     ]
    }
   ],
   "source": [
    "!python predict.py -i ./simpsons_dataset/homer_simpson/pic_0001.jpg -c ./save/train_20250822-200732_config.pickle\n"
   ]
  },
  {
   "cell_type": "code",
   "execution_count": 30,
   "id": "714070fc-b4d9-4a0b-8b06-7ece81b18fa4",
   "metadata": {},
   "outputs": [
    {
     "name": "stderr",
     "output_type": "stream",
     "text": [
      "2025-08-22 21:00:46.820294: I tensorflow/core/util/port.cc:153] oneDNN custom operations are on. You may see slightly different numerical results due to floating-point round-off errors from different computation orders. To turn them off, set the environment variable `TF_ENABLE_ONEDNN_OPTS=0`.\n",
      "2025-08-22 21:00:48.841501: I tensorflow/core/util/port.cc:153] oneDNN custom operations are on. You may see slightly different numerical results due to floating-point round-off errors from different computation orders. To turn them off, set the environment variable `TF_ENABLE_ONEDNN_OPTS=0`.\n",
      "2025-08-22 21:00:55.256012: I tensorflow/core/platform/cpu_feature_guard.cc:210] This TensorFlow binary is optimized to use available CPU instructions in performance-critical operations.\n",
      "To enable the following instructions: SSE3 SSE4.1 SSE4.2 AVX AVX2 FMA, in other operations, rebuild TensorFlow with the appropriate compiler flags.\n",
      "C:\\Users\\USER\\.pyenv\\pyenv-win\\versions\\3.10.0\\lib\\site-packages\\keras\\src\\layers\\core\\wrapper.py:27: UserWarning: Do not pass an `input_shape`/`input_dim` argument to a layer. When using Sequential models, prefer using an `Input(shape)` object as the first layer in the model instead.\n",
      "  super().__init__(**kwargs)\n",
      "Traceback (most recent call last):\n",
      "  File \"C:\\Users\\USER\\OneDrive\\Documents\\Cursos\\AI Data Engineerng\\AI-Data-Engineer--Assignments\\29_Faster R-CNN and YOLO v3\\ObjectDetection\\predict.py\", line 246, in <module>\n",
      "    main()\n",
      "  File \"C:\\Users\\USER\\OneDrive\\Documents\\Cursos\\AI Data Engineerng\\AI-Data-Engineer--Assignments\\29_Faster R-CNN and YOLO v3\\ObjectDetection\\predict.py\", line 222, in main\n",
      "    model_rpn, model_classifier, model_classifier_only = get_models(C)\n",
      "  File \"C:\\Users\\USER\\OneDrive\\Documents\\Cursos\\AI Data Engineerng\\AI-Data-Engineer--Assignments\\29_Faster R-CNN and YOLO v3\\ObjectDetection\\predict.py\", line 65, in get_models\n",
      "    model_rpn.load_weights(C.model_path, by_name=True)\n",
      "  File \"C:\\Users\\USER\\.pyenv\\pyenv-win\\versions\\3.10.0\\lib\\site-packages\\keras\\src\\utils\\traceback_utils.py\", line 122, in error_handler\n",
      "    raise e.with_traceback(filtered_tb) from None\n",
      "  File \"C:\\Users\\USER\\.pyenv\\pyenv-win\\versions\\3.10.0\\lib\\site-packages\\h5py\\_hl\\files.py\", line 564, in __init__\n",
      "    fid = make_fid(name, mode, userblock_size, fapl, fcpl, swmr=swmr)\n",
      "  File \"C:\\Users\\USER\\.pyenv\\pyenv-win\\versions\\3.10.0\\lib\\site-packages\\h5py\\_hl\\files.py\", line 238, in make_fid\n",
      "    fid = h5f.open(name, flags, fapl=fapl)\n",
      "  File \"h5py/_objects.pyx\", line 56, in h5py._objects.with_phil.wrapper\n",
      "  File \"h5py/_objects.pyx\", line 57, in h5py._objects.with_phil.wrapper\n",
      "  File \"h5py/h5f.pyx\", line 102, in h5py.h5f.open\n",
      "FileNotFoundError: [Errno 2] Unable to synchronously open file (unable to open file: name = './save\\train_20250822-203051_model.hdf5', errno = 2, error message = 'No such file or directory', flags = 0, o_flags = 0)\n"
     ]
    }
   ],
   "source": [
    "!python predict.py -i \"simpsons_dataset/homer_simpson/pic_0001.jpg\" -c \"save/train_20250822-203051_config.pickle\"\n"
   ]
  },
  {
   "cell_type": "code",
   "execution_count": null,
   "id": "1946d4f1-43a3-4094-8def-8a9f20c3ba2b",
   "metadata": {},
   "outputs": [],
   "source": []
  },
  {
   "cell_type": "code",
   "execution_count": null,
   "id": "acd6bd32-db5e-4fca-8ed5-c3adcfd32b0c",
   "metadata": {},
   "outputs": [],
   "source": []
  }
 ],
 "metadata": {
  "kernelspec": {
   "display_name": "Python 3 (ipykernel)",
   "language": "python",
   "name": "python3"
  },
  "language_info": {
   "codemirror_mode": {
    "name": "ipython",
    "version": 3
   },
   "file_extension": ".py",
   "mimetype": "text/x-python",
   "name": "python",
   "nbconvert_exporter": "python",
   "pygments_lexer": "ipython3",
   "version": "3.10.0"
  }
 },
 "nbformat": 4,
 "nbformat_minor": 5
}
